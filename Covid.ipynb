{
 "cells": [
  {
   "cell_type": "code",
   "execution_count": 46,
   "id": "ffcbc724",
   "metadata": {},
   "outputs": [],
   "source": [
    "import tensorflow as tf\n",
    "import matplotlib.pyplot as plt\n",
    "import tensorflow_datasets as tfds\n",
    "from tensorflow.keras import layers, models\n",
    "import numpy as np"
   ]
  },
  {
   "cell_type": "code",
   "execution_count": 37,
   "id": "1741d7d4",
   "metadata": {},
   "outputs": [
    {
     "name": "stdout",
     "output_type": "stream",
     "text": [
      "Found 148 files belonging to 2 classes.\n"
     ]
    }
   ],
   "source": [
    "# importing training data\n",
    "\n",
    "data_dir =\"./xray_dataset_covid19/train\"     \n",
    "train_ds = tf.keras.utils.image_dataset_from_directory(\n",
    "data_dir,\n",
    "class_names=[\"NORMAL\", \"PNEUMONIA\"],\n",
    "label_mode='binary'\n",
    ")\n"
   ]
  },
  {
   "cell_type": "code",
   "execution_count": 47,
   "id": "70c27459",
   "metadata": {},
   "outputs": [],
   "source": [
    "train_label = np.concatenate([y for x, y in train_ds], axis=0)"
   ]
  },
  {
   "cell_type": "code",
   "execution_count": 50,
   "id": "3828c992",
   "metadata": {},
   "outputs": [],
   "source": [
    "test_label = np.concatenate([y for x, y in test_ds], axis=0)"
   ]
  },
  {
   "cell_type": "code",
   "execution_count": 38,
   "id": "a32847be",
   "metadata": {},
   "outputs": [
    {
     "name": "stdout",
     "output_type": "stream",
     "text": [
      "Found 40 files belonging to 2 classes.\n"
     ]
    }
   ],
   "source": [
    "# importing testing data\n",
    "\n",
    "data_dir =\"./xray_dataset_covid19/test\"     \n",
    "test_ds = tf.keras.utils.image_dataset_from_directory(\n",
    "data_dir,\n",
    "class_names=[\"NORMAL\", \"PNEUMONIA\"],\n",
    "label_mode='binary'\n",
    ")"
   ]
  },
  {
   "cell_type": "code",
   "execution_count": 39,
   "id": "4aff2f56",
   "metadata": {},
   "outputs": [],
   "source": [
    "# extracting features from each image\n",
    "\n",
    "model = models.Sequential()\n",
    "model.add(layers.Conv2D(32, (3, 3), activation='relu', input_shape=(256, 256, 3)))\n",
    "model.add(layers.MaxPooling2D((2, 2)))\n",
    "model.add(layers.Conv2D(64, (3, 3), activation='relu'))\n",
    "model.add(layers.MaxPooling2D((2, 2)))\n",
    "model.add(layers.Conv2D(64, (3, 3), activation='relu'))"
   ]
  },
  {
   "cell_type": "code",
   "execution_count": 40,
   "id": "debd8edf",
   "metadata": {},
   "outputs": [
    {
     "name": "stdout",
     "output_type": "stream",
     "text": [
      "Model: \"sequential_1\"\n",
      "_________________________________________________________________\n",
      " Layer (type)                Output Shape              Param #   \n",
      "=================================================================\n",
      " conv2d_3 (Conv2D)           (None, 254, 254, 32)      896       \n",
      "                                                                 \n",
      " max_pooling2d_2 (MaxPooling  (None, 127, 127, 32)     0         \n",
      " 2D)                                                             \n",
      "                                                                 \n",
      " conv2d_4 (Conv2D)           (None, 125, 125, 64)      18496     \n",
      "                                                                 \n",
      " max_pooling2d_3 (MaxPooling  (None, 62, 62, 64)       0         \n",
      " 2D)                                                             \n",
      "                                                                 \n",
      " conv2d_5 (Conv2D)           (None, 60, 60, 64)        36928     \n",
      "                                                                 \n",
      "=================================================================\n",
      "Total params: 56,320\n",
      "Trainable params: 56,320\n",
      "Non-trainable params: 0\n",
      "_________________________________________________________________\n"
     ]
    }
   ],
   "source": [
    "model.summary()"
   ]
  },
  {
   "cell_type": "code",
   "execution_count": 61,
   "id": "bb457aac",
   "metadata": {},
   "outputs": [],
   "source": [
    "# adding dense layes\n",
    "\n",
    "model.add(layers.Flatten())\n",
    "model.add(layers.Dense(64, activation='relu'))\n",
    "model.add(layers.Dense(1))"
   ]
  },
  {
   "cell_type": "code",
   "execution_count": 62,
   "id": "65bbbf04",
   "metadata": {},
   "outputs": [
    {
     "name": "stdout",
     "output_type": "stream",
     "text": [
      "Model: \"sequential_1\"\n",
      "_________________________________________________________________\n",
      " Layer (type)                Output Shape              Param #   \n",
      "=================================================================\n",
      " conv2d_3 (Conv2D)           (None, 254, 254, 32)      896       \n",
      "                                                                 \n",
      " max_pooling2d_2 (MaxPooling  (None, 127, 127, 32)     0         \n",
      " 2D)                                                             \n",
      "                                                                 \n",
      " conv2d_4 (Conv2D)           (None, 125, 125, 64)      18496     \n",
      "                                                                 \n",
      " max_pooling2d_3 (MaxPooling  (None, 62, 62, 64)       0         \n",
      " 2D)                                                             \n",
      "                                                                 \n",
      " conv2d_5 (Conv2D)           (None, 60, 60, 64)        36928     \n",
      "                                                                 \n",
      " flatten_1 (Flatten)         (None, 230400)            0         \n",
      "                                                                 \n",
      " dense_2 (Dense)             (None, 64)                14745664  \n",
      "                                                                 \n",
      " dense_3 (Dense)             (None, 10)                650       \n",
      "                                                                 \n",
      " flatten_2 (Flatten)         (None, 10)                0         \n",
      "                                                                 \n",
      " dense_4 (Dense)             (None, 64)                704       \n",
      "                                                                 \n",
      " dense_5 (Dense)             (None, 2)                 130       \n",
      "                                                                 \n",
      " flatten_3 (Flatten)         (None, 2)                 0         \n",
      "                                                                 \n",
      " dense_6 (Dense)             (None, 64)                192       \n",
      "                                                                 \n",
      " dense_7 (Dense)             (None, 1)                 65        \n",
      "                                                                 \n",
      "=================================================================\n",
      "Total params: 14,803,725\n",
      "Trainable params: 14,803,725\n",
      "Non-trainable params: 0\n",
      "_________________________________________________________________\n"
     ]
    }
   ],
   "source": [
    "model.summary()"
   ]
  },
  {
   "cell_type": "code",
   "execution_count": 77,
   "id": "f7f8a1d7",
   "metadata": {},
   "outputs": [],
   "source": [
    "# training\n",
    "\n",
    "model.compile(optimizer='adam',\n",
    "              loss=tf.keras.losses.BinaryCrossentropy(from_logits=True))\n"
   ]
  },
  {
   "cell_type": "code",
   "execution_count": 81,
   "id": "b72fc5c0",
   "metadata": {},
   "outputs": [
    {
     "name": "stdout",
     "output_type": "stream",
     "text": [
      "Epoch 1/10\n",
      "5/5 [==============================] - 3s 402ms/step - loss: 0.7601\n",
      "Epoch 2/10\n",
      "5/5 [==============================] - 3s 401ms/step - loss: 0.6647\n",
      "Epoch 3/10\n",
      "5/5 [==============================] - 3s 401ms/step - loss: 0.6192\n",
      "Epoch 4/10\n",
      "5/5 [==============================] - 3s 400ms/step - loss: 0.7331\n",
      "Epoch 5/10\n",
      "5/5 [==============================] - 3s 401ms/step - loss: 0.6234\n",
      "Epoch 6/10\n",
      "5/5 [==============================] - 3s 402ms/step - loss: 0.5445\n",
      "Epoch 7/10\n",
      "5/5 [==============================] - 3s 397ms/step - loss: 0.3814\n",
      "Epoch 8/10\n",
      "5/5 [==============================] - 3s 401ms/step - loss: 0.3306\n",
      "Epoch 9/10\n",
      "5/5 [==============================] - 3s 405ms/step - loss: 0.3179\n",
      "Epoch 10/10\n",
      "5/5 [==============================] - 3s 400ms/step - loss: 0.1907\n"
     ]
    }
   ],
   "source": [
    "history = model.fit(train_ds, epochs=10, \n",
    "                    )"
   ]
  },
  {
   "cell_type": "code",
   "execution_count": 79,
   "id": "c40ad933",
   "metadata": {},
   "outputs": [
    {
     "data": {
      "text/plain": [
       "{'loss': [38.47014236450195,\n",
       "  2.6864752769470215,\n",
       "  1.2673466205596924,\n",
       "  0.8800601363182068]}"
      ]
     },
     "execution_count": 79,
     "metadata": {},
     "output_type": "execute_result"
    }
   ],
   "source": [
    "history.history"
   ]
  },
  {
   "cell_type": "code",
   "execution_count": 80,
   "id": "7c34a0c5",
   "metadata": {},
   "outputs": [
    {
     "name": "stdout",
     "output_type": "stream",
     "text": [
      "2/2 [==============================] - 1s 53ms/step - loss: 0.8777\n"
     ]
    }
   ],
   "source": [
    "results = model.evaluate(test_ds, batch_size=128)"
   ]
  },
  {
   "cell_type": "code",
   "execution_count": null,
   "id": "d7b14b97",
   "metadata": {},
   "outputs": [],
   "source": []
  }
 ],
 "metadata": {
  "kernelspec": {
   "display_name": "Python [conda env:keras]",
   "language": "python",
   "name": "conda-env-keras-py"
  },
  "language_info": {
   "codemirror_mode": {
    "name": "ipython",
    "version": 3
   },
   "file_extension": ".py",
   "mimetype": "text/x-python",
   "name": "python",
   "nbconvert_exporter": "python",
   "pygments_lexer": "ipython3",
   "version": "3.7.12"
  }
 },
 "nbformat": 4,
 "nbformat_minor": 5
}
