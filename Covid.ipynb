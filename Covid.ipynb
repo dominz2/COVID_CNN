{
 "cells": [
  {
   "cell_type": "code",
   "execution_count": 1,
   "id": "ffcbc724",
   "metadata": {},
   "outputs": [
    {
     "name": "stderr",
     "output_type": "stream",
     "text": [
      "D:\\anaconda3\\envs\\keras\\lib\\site-packages\\tqdm\\auto.py:22: TqdmWarning: IProgress not found. Please update jupyter and ipywidgets. See https://ipywidgets.readthedocs.io/en/stable/user_install.html\n",
      "  from .autonotebook import tqdm as notebook_tqdm\n"
     ]
    }
   ],
   "source": [
    "import tensorflow as tf\n",
    "import matplotlib.pyplot as plt\n",
    "import tensorflow_datasets as tfds\n",
    "from tensorflow.keras import layers, models\n",
    "import numpy as np"
   ]
  },
  {
   "cell_type": "code",
   "execution_count": 2,
   "id": "1741d7d4",
   "metadata": {},
   "outputs": [
    {
     "name": "stdout",
     "output_type": "stream",
     "text": [
      "Found 148 files belonging to 2 classes.\n"
     ]
    }
   ],
   "source": [
    "# importing training data\n",
    "\n",
    "data_dir =\"./xray_dataset_covid19/train\"     \n",
    "train_ds = tf.keras.utils.image_dataset_from_directory(\n",
    "data_dir,\n",
    "class_names=[\"NORMAL\", \"PNEUMONIA\"],\n",
    "label_mode='binary'\n",
    ")\n"
   ]
  },
  {
   "cell_type": "code",
   "execution_count": 3,
   "id": "a32847be",
   "metadata": {},
   "outputs": [
    {
     "name": "stdout",
     "output_type": "stream",
     "text": [
      "Found 40 files belonging to 2 classes.\n"
     ]
    }
   ],
   "source": [
    "# importing testing data\n",
    "\n",
    "data_dir =\"./xray_dataset_covid19/test\"     \n",
    "test_ds = tf.keras.utils.image_dataset_from_directory(\n",
    "data_dir,\n",
    "class_names=[\"NORMAL\", \"PNEUMONIA\"],\n",
    "label_mode='binary'\n",
    ")"
   ]
  },
  {
   "cell_type": "code",
   "execution_count": 4,
   "id": "4aff2f56",
   "metadata": {},
   "outputs": [],
   "source": [
    "# extracting features from each image\n",
    "\n",
    "model = models.Sequential()\n",
    "model.add(layers.Conv2D(32, (3, 3), activation='relu', input_shape=(256, 256, 3)))\n",
    "model.add(layers.MaxPooling2D((2, 2)))\n",
    "model.add(layers.Conv2D(64, (3, 3), activation='relu'))\n",
    "model.add(layers.MaxPooling2D((2, 2)))\n",
    "model.add(layers.Conv2D(64, (3, 3), activation='relu'))"
   ]
  },
  {
   "cell_type": "code",
   "execution_count": 5,
   "id": "debd8edf",
   "metadata": {},
   "outputs": [
    {
     "name": "stdout",
     "output_type": "stream",
     "text": [
      "Model: \"sequential\"\n",
      "_________________________________________________________________\n",
      " Layer (type)                Output Shape              Param #   \n",
      "=================================================================\n",
      " conv2d (Conv2D)             (None, 254, 254, 32)      896       \n",
      "                                                                 \n",
      " max_pooling2d (MaxPooling2D  (None, 127, 127, 32)     0         \n",
      " )                                                               \n",
      "                                                                 \n",
      " conv2d_1 (Conv2D)           (None, 125, 125, 64)      18496     \n",
      "                                                                 \n",
      " max_pooling2d_1 (MaxPooling  (None, 62, 62, 64)       0         \n",
      " 2D)                                                             \n",
      "                                                                 \n",
      " conv2d_2 (Conv2D)           (None, 60, 60, 64)        36928     \n",
      "                                                                 \n",
      "=================================================================\n",
      "Total params: 56,320\n",
      "Trainable params: 56,320\n",
      "Non-trainable params: 0\n",
      "_________________________________________________________________\n"
     ]
    }
   ],
   "source": [
    "model.summary()"
   ]
  },
  {
   "cell_type": "code",
   "execution_count": 6,
   "id": "bb457aac",
   "metadata": {},
   "outputs": [],
   "source": [
    "# adding dense layes\n",
    "\n",
    "model.add(layers.Flatten())\n",
    "model.add(layers.Dense(64, activation='relu'))\n",
    "model.add(layers.Dense(1))"
   ]
  },
  {
   "cell_type": "code",
   "execution_count": 7,
   "id": "65bbbf04",
   "metadata": {},
   "outputs": [
    {
     "name": "stdout",
     "output_type": "stream",
     "text": [
      "Model: \"sequential\"\n",
      "_________________________________________________________________\n",
      " Layer (type)                Output Shape              Param #   \n",
      "=================================================================\n",
      " conv2d (Conv2D)             (None, 254, 254, 32)      896       \n",
      "                                                                 \n",
      " max_pooling2d (MaxPooling2D  (None, 127, 127, 32)     0         \n",
      " )                                                               \n",
      "                                                                 \n",
      " conv2d_1 (Conv2D)           (None, 125, 125, 64)      18496     \n",
      "                                                                 \n",
      " max_pooling2d_1 (MaxPooling  (None, 62, 62, 64)       0         \n",
      " 2D)                                                             \n",
      "                                                                 \n",
      " conv2d_2 (Conv2D)           (None, 60, 60, 64)        36928     \n",
      "                                                                 \n",
      " flatten (Flatten)           (None, 230400)            0         \n",
      "                                                                 \n",
      " dense (Dense)               (None, 64)                14745664  \n",
      "                                                                 \n",
      " dense_1 (Dense)             (None, 1)                 65        \n",
      "                                                                 \n",
      "=================================================================\n",
      "Total params: 14,802,049\n",
      "Trainable params: 14,802,049\n",
      "Non-trainable params: 0\n",
      "_________________________________________________________________\n"
     ]
    }
   ],
   "source": [
    "model.summary()"
   ]
  },
  {
   "cell_type": "code",
   "execution_count": 15,
   "id": "f7f8a1d7",
   "metadata": {},
   "outputs": [],
   "source": [
    "# training\n",
    "\n",
    "model.compile(optimizer='adam',\n",
    "              loss=tf.keras.losses.BinaryCrossentropy(from_logits=True),\n",
    "              metrics=[tf.keras.metrics.BinaryAccuracy()]\n",
    "        )\n"
   ]
  },
  {
   "cell_type": "code",
   "execution_count": 16,
   "id": "b72fc5c0",
   "metadata": {},
   "outputs": [
    {
     "name": "stdout",
     "output_type": "stream",
     "text": [
      "Epoch 1/10\n",
      "5/5 [==============================] - 4s 411ms/step - loss: 27.4745 - binary_accuracy: 0.8986\n",
      "Epoch 2/10\n",
      "5/5 [==============================] - 3s 409ms/step - loss: 7.4298 - binary_accuracy: 0.8784\n",
      "Epoch 3/10\n",
      "5/5 [==============================] - 3s 411ms/step - loss: 1.0450 - binary_accuracy: 0.9797\n",
      "Epoch 4/10\n",
      "5/5 [==============================] - 3s 413ms/step - loss: 2.2607e-07 - binary_accuracy: 1.0000\n",
      "Epoch 5/10\n",
      "5/5 [==============================] - 4s 411ms/step - loss: 2.3544 - binary_accuracy: 0.9459\n",
      "Epoch 6/10\n",
      "5/5 [==============================] - 3s 411ms/step - loss: 1.1056 - binary_accuracy: 0.9662\n",
      "Epoch 7/10\n",
      "5/5 [==============================] - 4s 411ms/step - loss: 0.5538 - binary_accuracy: 0.9865\n",
      "Epoch 8/10\n",
      "5/5 [==============================] - 3s 413ms/step - loss: 0.2860 - binary_accuracy: 0.9932\n",
      "Epoch 9/10\n",
      "5/5 [==============================] - 4s 412ms/step - loss: 3.5960e-07 - binary_accuracy: 1.0000\n",
      "Epoch 10/10\n",
      "5/5 [==============================] - 4s 411ms/step - loss: 0.2891 - binary_accuracy: 0.9865\n"
     ]
    }
   ],
   "source": [
    "history = model.fit(train_ds, epochs=10)"
   ]
  },
  {
   "cell_type": "code",
   "execution_count": 10,
   "id": "c40ad933",
   "metadata": {},
   "outputs": [
    {
     "data": {
      "text/plain": [
       "{'loss': [678.3309326171875,\n",
       "  42.408302307128906,\n",
       "  1.5685192346572876,\n",
       "  6.136415004730225,\n",
       "  1.080194115638733,\n",
       "  0.1411619335412979,\n",
       "  0.6832109689712524,\n",
       "  0.6246918439865112,\n",
       "  0.6547912955284119,\n",
       "  0.1602180004119873]}"
      ]
     },
     "execution_count": 10,
     "metadata": {},
     "output_type": "execute_result"
    }
   ],
   "source": [
    "history.history"
   ]
  },
  {
   "cell_type": "code",
   "execution_count": 17,
   "id": "7c34a0c5",
   "metadata": {},
   "outputs": [
    {
     "name": "stdout",
     "output_type": "stream",
     "text": [
      "2/2 [==============================] - 1s 57ms/step - loss: 0.9072 - binary_accuracy: 0.9750\n"
     ]
    }
   ],
   "source": [
    "results = model.evaluate(test_ds, batch_size=128)"
   ]
  },
  {
   "cell_type": "code",
   "execution_count": null,
   "id": "d7b14b97",
   "metadata": {},
   "outputs": [],
   "source": []
  }
 ],
 "metadata": {
  "kernelspec": {
   "display_name": "Python [conda env:keras]",
   "language": "python",
   "name": "conda-env-keras-py"
  },
  "language_info": {
   "codemirror_mode": {
    "name": "ipython",
    "version": 3
   },
   "file_extension": ".py",
   "mimetype": "text/x-python",
   "name": "python",
   "nbconvert_exporter": "python",
   "pygments_lexer": "ipython3",
   "version": "3.7.12"
  }
 },
 "nbformat": 4,
 "nbformat_minor": 5
}
